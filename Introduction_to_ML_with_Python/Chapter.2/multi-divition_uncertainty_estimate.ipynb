{
 "nbformat": 4,
 "nbformat_minor": 2,
 "metadata": {
  "language_info": {
   "name": "python",
   "codemirror_mode": {
    "name": "ipython",
    "version": 3
   },
   "version": "3.8.2-final"
  },
  "orig_nbformat": 2,
  "file_extension": ".py",
  "mimetype": "text/x-python",
  "name": "python",
  "npconvert_exporter": "python",
  "pygments_lexer": "ipython3",
  "version": 3,
  "kernelspec": {
   "name": "python38264bit8a5e23718c784f598da0062245aaffcc",
   "display_name": "Python 3.8.2 64-bit"
  }
 },
 "cells": [
  {
   "cell_type": "code",
   "execution_count": 1,
   "metadata": {},
   "outputs": [
    {
     "output_type": "execute_result",
     "data": {
      "text/plain": "GradientBoostingClassifier(ccp_alpha=0.0, criterion='friedman_mse', init=None,\n                           learning_rate=0.1, loss='deviance', max_depth=3,\n                           max_features=None, max_leaf_nodes=None,\n                           min_impurity_decrease=0.0, min_impurity_split=None,\n                           min_samples_leaf=1, min_samples_split=2,\n                           min_weight_fraction_leaf=0.0, n_estimators=100,\n                           n_iter_no_change=None, presort='deprecated',\n                           random_state=0, subsample=1.0, tol=0.0001,\n                           validation_fraction=0.1, verbose=0,\n                           warm_start=False)"
     },
     "metadata": {},
     "execution_count": 1
    }
   ],
   "source": [
    "import numpy as np\n",
    "import pandas as pd\n",
    "import matplotlib.pyplot as plt\n",
    "import mglearn\n",
    "\n",
    "from sklearn.datasets import load_iris\n",
    "from sklearn.model_selection import train_test_split\n",
    "from sklearn.ensemble import GradientBoostingClassifier\n",
    "\n",
    "iris=load_iris()\n",
    "\n",
    "X_train, X_test, y_train, y_test = train_test_split(iris.data, iris.target, random_state=42)\n",
    "\n",
    "gbrt=GradientBoostingClassifier(learning_rate=0.1, random_state=0)\n",
    "gbrt.fit(X_train, y_train)"
   ]
  },
  {
   "cell_type": "code",
   "execution_count": 2,
   "metadata": {},
   "outputs": [
    {
     "output_type": "stream",
     "name": "stdout",
     "text": "Decision function shape: (38, 3)\nDecision function:\n[[-6.52410155  1.76139927 -5.83242466]\n [ 4.58962941 -3.57027324 -6.43717634]\n [-6.50290054 -6.35572472  4.2560087 ]\n [-6.52410155  2.32787828 -5.24096147]\n [-6.54957621  2.19012917 -5.42835855]\n [ 4.58962941 -3.9448458  -6.43717634]]\n"
    }
   ],
   "source": [
    "print('Decision function shape: {}'.format(gbrt.decision_function(X_test).shape))\n",
    "print('Decision function:\\n{}'.format(gbrt.decision_function(X_test)[:6,:]))"
   ]
  },
  {
   "cell_type": "code",
   "execution_count": 3,
   "metadata": {},
   "outputs": [
    {
     "output_type": "stream",
     "name": "stdout",
     "text": "Argmax of decision function:\n[1 0 2 1 1 0 1 2 1 1 2 0 0 0 0 1 2 1 1 2 0 2 0 2 2 2 2 2 0 0 0 0 1 0 0 2 1\n 0]\nPredictions:\n[1 0 2 1 1 0 1 2 1 1 2 0 0 0 0 1 2 1 1 2 0 2 0 2 2 2 2 2 0 0 0 0 1 0 0 2 1\n 0]\n"
    }
   ],
   "source": [
    "print('Argmax of decision function:\\n{}'.format(np.argmax(gbrt.decision_function(X_test), axis=1)))\n",
    "print('Predictions:\\n{}'.format(gbrt.predict(X_test)))"
   ]
  },
  {
   "cell_type": "code",
   "execution_count": 4,
   "metadata": {},
   "outputs": [
    {
     "output_type": "stream",
     "name": "stdout",
     "text": "Predicted probabilities:\n[[2.51955965e-04 9.99244872e-01 5.03171575e-04]\n [9.99697941e-01 2.85803870e-04 1.62550350e-05]\n [2.12542195e-05 2.46242384e-05 9.99954122e-01]\n [1.43003851e-04 9.99341045e-01 5.15950912e-04]\n [1.59996830e-04 9.99349039e-01 4.90964420e-04]\n [9.99787212e-01 1.96531465e-04 1.62564865e-05]]\nSums: [1. 1. 1. 1. 1. 1.]\n"
    }
   ],
   "source": [
    "print('Predicted probabilities:\\n{}'.format(gbrt.predict_proba(X_test)[:6]))\n",
    "print('Sums: {}'.format(gbrt.predict_proba(X_test)[:6].sum(axis=1)))"
   ]
  },
  {
   "cell_type": "code",
   "execution_count": 5,
   "metadata": {},
   "outputs": [
    {
     "output_type": "stream",
     "name": "stdout",
     "text": "Argmax of predicted probabilities:\n[1 0 2 1 1 0 1 2 1 1 2 0 0 0 0 1 2 1 1 2 0 2 0 2 2 2 2 2 0 0 0 0 1 0 0 2 1\n 0]\nPredictions:\n[1 0 2 1 1 0 1 2 1 1 2 0 0 0 0 1 2 1 1 2 0 2 0 2 2 2 2 2 0 0 0 0 1 0 0 2 1\n 0]\n"
    }
   ],
   "source": [
    "print('Argmax of predicted probabilities:\\n{}'.format(np.argmax(gbrt.predict_proba(X_test), axis=1)))\n",
    "print('Predictions:\\n{}'.format(gbrt.predict(X_test)))"
   ]
  },
  {
   "cell_type": "code",
   "execution_count": 6,
   "metadata": {},
   "outputs": [
    {
     "output_type": "stream",
     "name": "stdout",
     "text": "Unique classes in training data: ['setosa' 'versicolor' 'virginica']\nPredictions: ['versicolor' 'setosa' 'virginica' 'versicolor' 'versicolor' 'setosa'\n 'versicolor' 'virginica' 'versicolor' 'versicolor']\nArgmax of decision function: [1 0 2 1 1 0 1 2 1 1]\nArgmax combined with classes_: ['versicolor' 'setosa' 'virginica' 'versicolor' 'versicolor' 'setosa'\n 'versicolor' 'virginica' 'versicolor' 'versicolor']\n"
    }
   ],
   "source": [
    "from sklearn.linear_model import LogisticRegression\n",
    "\n",
    "logreg=LogisticRegression()\n",
    "\n",
    "named_target=iris.target_names[y_train]\n",
    "logreg.fit(X_train, named_target)\n",
    "print('Unique classes in training data: {}'.format(logreg.classes_))\n",
    "print('Predictions: {}'.format(logreg.predict(X_test)[:10]))\n",
    "argmax_dec_func=np.argmax(logreg.decision_function(X_test),axis=1)\n",
    "print('Argmax of decision function: {}'.format(argmax_dec_func[:10]))\n",
    "print('Argmax combined with classes_: {}'.format(logreg.classes_[argmax_dec_func][:10]))"
   ]
  }
 ]
}