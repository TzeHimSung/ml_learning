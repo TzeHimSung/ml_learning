{
 "nbformat": 4,
 "nbformat_minor": 2,
 "metadata": {
  "language_info": {
   "name": "python",
   "codemirror_mode": {
    "name": "ipython",
    "version": 3
   },
   "version": "3.7.6-final"
  },
  "orig_nbformat": 2,
  "file_extension": ".py",
  "mimetype": "text/x-python",
  "name": "python",
  "npconvert_exporter": "python",
  "pygments_lexer": "ipython3",
  "version": 3,
  "kernelspec": {
   "name": "python3",
   "display_name": "Python 3"
  }
 },
 "cells": [
  {
   "cell_type": "code",
   "execution_count": 1,
   "metadata": {},
   "outputs": [
    {
     "output_type": "stream",
     "name": "stdout",
     "text": "Feature counts:\n{0: array([0, 1, 0, 2]), 1: array([2, 0, 2, 1])}\n"
    }
   ],
   "source": [
    "import numpy as np\n",
    "import pandas as pd\n",
    "import matplotlib.pyplot as plt\n",
    "import mglearn\n",
    "\n",
    "X=np.array([\n",
    "    [0,1,0,1],\n",
    "    [1,0,1,1],\n",
    "    [0,0,0,1],\n",
    "    [1,0,1,0]\n",
    "])\n",
    "\n",
    "y=np.array([0,1,0,1])\n",
    "\n",
    "counts={}\n",
    "for label in np.unique(y):\n",
    "    counts[label]=X[y==label].sum(axis=0)\n",
    "print('Feature counts:\\n{}'.format(counts))"
   ]
  }
 ]
}