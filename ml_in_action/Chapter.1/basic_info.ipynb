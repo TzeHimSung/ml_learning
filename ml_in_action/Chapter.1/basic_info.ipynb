{
 "cells": [
  {
   "cell_type": "code",
   "execution_count": 1,
   "metadata": {},
   "outputs": [],
   "source": [
    "from numpy import *"
   ]
  },
  {
   "cell_type": "code",
   "execution_count": 2,
   "metadata": {},
   "outputs": [
    {
     "output_type": "execute_result",
     "data": {
      "text/plain": "array([[0.96625776, 0.61115858, 0.76074318, 0.44472965],\n       [0.07564271, 0.62818875, 0.0843795 , 0.13726672],\n       [0.04562207, 0.45948991, 0.16264347, 0.87225572],\n       [0.28914955, 0.57641087, 0.32237395, 0.82850041]])"
     },
     "metadata": {},
     "execution_count": 2
    }
   ],
   "source": [
    "random.rand(4, 4)"
   ]
  },
  {
   "cell_type": "code",
   "execution_count": 3,
   "metadata": {},
   "outputs": [
    {
     "output_type": "execute_result",
     "data": {
      "text/plain": "matrix([[0.56239825, 0.11578481, 0.33449556, 0.69949251],\n        [0.31691578, 0.27066954, 0.87508795, 0.42988591],\n        [0.44667502, 0.99367463, 0.45102046, 0.15817762],\n        [0.17681022, 0.95667019, 0.32972732, 0.23339223]])"
     },
     "metadata": {},
     "execution_count": 3
    }
   ],
   "source": [
    "randMat = mat(random.rand(4, 4))\n",
    "randMat"
   ]
  },
  {
   "cell_type": "code",
   "execution_count": 4,
   "metadata": {},
   "outputs": [
    {
     "output_type": "execute_result",
     "data": {
      "text/plain": "matrix([[ 0.74843028, -0.69387465,  2.96658776, -2.97560135],\n        [-0.15512865, -0.38311955,  0.00516028,  1.16710304],\n        [-0.83959868,  1.5780188 ,  0.12570249, -0.47541591],\n        [ 1.25503516, -0.1333066 , -2.44612795,  2.42656594]])"
     },
     "metadata": {},
     "execution_count": 4
    }
   ],
   "source": [
    "randMat.I"
   ]
  },
  {
   "cell_type": "code",
   "execution_count": 5,
   "metadata": {},
   "outputs": [],
   "source": [
    "invRandMat = randMat.I"
   ]
  },
  {
   "cell_type": "code",
   "execution_count": 6,
   "metadata": {},
   "outputs": [
    {
     "output_type": "execute_result",
     "data": {
      "text/plain": "matrix([[ 1.00000000e+00,  0.00000000e+00, -2.22044605e-16,\n          0.00000000e+00],\n        [ 0.00000000e+00,  1.00000000e+00,  0.00000000e+00,\n          0.00000000e+00],\n        [-4.85722573e-17,  0.00000000e+00,  1.00000000e+00,\n          4.44089210e-16],\n        [ 0.00000000e+00,  0.00000000e+00,  0.00000000e+00,\n          1.00000000e+00]])"
     },
     "metadata": {},
     "execution_count": 6
    }
   ],
   "source": [
    "randMat * invRandMat"
   ]
  },
  {
   "cell_type": "code",
   "execution_count": 7,
   "metadata": {},
   "outputs": [
    {
     "output_type": "execute_result",
     "data": {
      "text/plain": "matrix([[ 0.00000000e+00,  0.00000000e+00, -2.22044605e-16,\n          0.00000000e+00],\n        [ 0.00000000e+00, -1.11022302e-16,  0.00000000e+00,\n          0.00000000e+00],\n        [-4.85722573e-17,  0.00000000e+00, -2.22044605e-16,\n          4.44089210e-16],\n        [ 0.00000000e+00,  0.00000000e+00,  0.00000000e+00,\n          0.00000000e+00]])"
     },
     "metadata": {},
     "execution_count": 7
    }
   ],
   "source": [
    "myEye = randMat * invRandMat\n",
    "myEye - eye(4)"
   ]
  }
 ],
 "metadata": {
  "language_info": {
   "codemirror_mode": {
    "name": "ipython",
    "version": 3
   },
   "file_extension": ".py",
   "mimetype": "text/x-python",
   "name": "python",
   "nbconvert_exporter": "python",
   "pygments_lexer": "ipython3",
   "version": "3.7.7-final"
  },
  "orig_nbformat": 2,
  "kernelspec": {
   "name": "pycharm-2d21ca00",
   "display_name": "PyCharm (deviation_analysis)"
  }
 },
 "nbformat": 4,
 "nbformat_minor": 2
}